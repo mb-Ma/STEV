{
 "cells": [
  {
   "cell_type": "code",
   "execution_count": 2,
   "metadata": {},
   "outputs": [],
   "source": [
    "import numpy as np\n",
    "import pandas as pd"
   ]
  },
  {
   "cell_type": "markdown",
   "metadata": {},
   "source": [
    "获取GLA的meta信息"
   ]
  },
  {
   "cell_type": "code",
   "execution_count": 3,
   "metadata": {},
   "outputs": [
    {
     "name": "stdout",
     "output_type": "stream",
     "text": [
      "Empty DataFrame\n",
      "Columns: [ID, Lat, Lng, District, County, Fwy, Lanes, Type, Direction, ID2]\n",
      "Index: []\n"
     ]
    },
    {
     "data": {
      "text/html": [
       "<div>\n",
       "<style scoped>\n",
       "    .dataframe tbody tr th:only-of-type {\n",
       "        vertical-align: middle;\n",
       "    }\n",
       "\n",
       "    .dataframe tbody tr th {\n",
       "        vertical-align: top;\n",
       "    }\n",
       "\n",
       "    .dataframe thead th {\n",
       "        text-align: right;\n",
       "    }\n",
       "</style>\n",
       "<table border=\"1\" class=\"dataframe\">\n",
       "  <thead>\n",
       "    <tr style=\"text-align: right;\">\n",
       "      <th></th>\n",
       "      <th>ID</th>\n",
       "      <th>Lat</th>\n",
       "      <th>Lng</th>\n",
       "      <th>District</th>\n",
       "      <th>County</th>\n",
       "      <th>Fwy</th>\n",
       "      <th>Lanes</th>\n",
       "      <th>Type</th>\n",
       "      <th>Direction</th>\n",
       "      <th>ID2</th>\n",
       "    </tr>\n",
       "  </thead>\n",
       "  <tbody>\n",
       "    <tr>\n",
       "      <th>0</th>\n",
       "      <td>767494</td>\n",
       "      <td>34.103332</td>\n",
       "      <td>-118.249733</td>\n",
       "      <td>7</td>\n",
       "      <td>Los Angeles</td>\n",
       "      <td>SR2-E</td>\n",
       "      <td>3</td>\n",
       "      <td>Mainline</td>\n",
       "      <td>E</td>\n",
       "      <td>3527</td>\n",
       "    </tr>\n",
       "    <tr>\n",
       "      <th>1</th>\n",
       "      <td>767509</td>\n",
       "      <td>34.107693</td>\n",
       "      <td>-118.249538</td>\n",
       "      <td>7</td>\n",
       "      <td>Los Angeles</td>\n",
       "      <td>SR2-E</td>\n",
       "      <td>4</td>\n",
       "      <td>Mainline</td>\n",
       "      <td>E</td>\n",
       "      <td>3528</td>\n",
       "    </tr>\n",
       "    <tr>\n",
       "      <th>2</th>\n",
       "      <td>767523</td>\n",
       "      <td>34.113959</td>\n",
       "      <td>-118.242956</td>\n",
       "      <td>7</td>\n",
       "      <td>Los Angeles</td>\n",
       "      <td>SR2-E</td>\n",
       "      <td>4</td>\n",
       "      <td>Mainline</td>\n",
       "      <td>E</td>\n",
       "      <td>3529</td>\n",
       "    </tr>\n",
       "    <tr>\n",
       "      <th>3</th>\n",
       "      <td>767541</td>\n",
       "      <td>34.116060</td>\n",
       "      <td>-118.238384</td>\n",
       "      <td>7</td>\n",
       "      <td>Los Angeles</td>\n",
       "      <td>SR2-E</td>\n",
       "      <td>4</td>\n",
       "      <td>Mainline</td>\n",
       "      <td>E</td>\n",
       "      <td>3530</td>\n",
       "    </tr>\n",
       "    <tr>\n",
       "      <th>4</th>\n",
       "      <td>767554</td>\n",
       "      <td>34.121074</td>\n",
       "      <td>-118.229892</td>\n",
       "      <td>7</td>\n",
       "      <td>Los Angeles</td>\n",
       "      <td>SR2-E</td>\n",
       "      <td>4</td>\n",
       "      <td>Mainline</td>\n",
       "      <td>E</td>\n",
       "      <td>3531</td>\n",
       "    </tr>\n",
       "    <tr>\n",
       "      <th>...</th>\n",
       "      <td>...</td>\n",
       "      <td>...</td>\n",
       "      <td>...</td>\n",
       "      <td>...</td>\n",
       "      <td>...</td>\n",
       "      <td>...</td>\n",
       "      <td>...</td>\n",
       "      <td>...</td>\n",
       "      <td>...</td>\n",
       "      <td>...</td>\n",
       "    </tr>\n",
       "    <tr>\n",
       "      <th>3829</th>\n",
       "      <td>1202527</td>\n",
       "      <td>33.800970</td>\n",
       "      <td>-118.082822</td>\n",
       "      <td>12</td>\n",
       "      <td>Orange</td>\n",
       "      <td>I605-N</td>\n",
       "      <td>4</td>\n",
       "      <td>Mainline</td>\n",
       "      <td>N</td>\n",
       "      <td>8595</td>\n",
       "    </tr>\n",
       "    <tr>\n",
       "      <th>3830</th>\n",
       "      <td>1202549</td>\n",
       "      <td>33.804853</td>\n",
       "      <td>-118.081293</td>\n",
       "      <td>12</td>\n",
       "      <td>Orange</td>\n",
       "      <td>I605-N</td>\n",
       "      <td>4</td>\n",
       "      <td>Mainline</td>\n",
       "      <td>N</td>\n",
       "      <td>8596</td>\n",
       "    </tr>\n",
       "    <tr>\n",
       "      <th>3831</th>\n",
       "      <td>1219560</td>\n",
       "      <td>33.799259</td>\n",
       "      <td>-118.084891</td>\n",
       "      <td>12</td>\n",
       "      <td>Orange</td>\n",
       "      <td>I605-S</td>\n",
       "      <td>5</td>\n",
       "      <td>Mainline</td>\n",
       "      <td>S</td>\n",
       "      <td>8597</td>\n",
       "    </tr>\n",
       "    <tr>\n",
       "      <th>3832</th>\n",
       "      <td>1202522</td>\n",
       "      <td>33.801040</td>\n",
       "      <td>-118.083136</td>\n",
       "      <td>12</td>\n",
       "      <td>Orange</td>\n",
       "      <td>I605-S</td>\n",
       "      <td>4</td>\n",
       "      <td>Mainline</td>\n",
       "      <td>S</td>\n",
       "      <td>8598</td>\n",
       "    </tr>\n",
       "    <tr>\n",
       "      <th>3833</th>\n",
       "      <td>1202537</td>\n",
       "      <td>33.804047</td>\n",
       "      <td>-118.081675</td>\n",
       "      <td>12</td>\n",
       "      <td>Orange</td>\n",
       "      <td>I605-S</td>\n",
       "      <td>4</td>\n",
       "      <td>Mainline</td>\n",
       "      <td>S</td>\n",
       "      <td>8599</td>\n",
       "    </tr>\n",
       "  </tbody>\n",
       "</table>\n",
       "<p>3834 rows × 10 columns</p>\n",
       "</div>"
      ],
      "text/plain": [
       "           ID        Lat         Lng  District       County     Fwy  Lanes  \\\n",
       "0      767494  34.103332 -118.249733         7  Los Angeles   SR2-E      3   \n",
       "1      767509  34.107693 -118.249538         7  Los Angeles   SR2-E      4   \n",
       "2      767523  34.113959 -118.242956         7  Los Angeles   SR2-E      4   \n",
       "3      767541  34.116060 -118.238384         7  Los Angeles   SR2-E      4   \n",
       "4      767554  34.121074 -118.229892         7  Los Angeles   SR2-E      4   \n",
       "...       ...        ...         ...       ...          ...     ...    ...   \n",
       "3829  1202527  33.800970 -118.082822        12       Orange  I605-N      4   \n",
       "3830  1202549  33.804853 -118.081293        12       Orange  I605-N      4   \n",
       "3831  1219560  33.799259 -118.084891        12       Orange  I605-S      5   \n",
       "3832  1202522  33.801040 -118.083136        12       Orange  I605-S      4   \n",
       "3833  1202537  33.804047 -118.081675        12       Orange  I605-S      4   \n",
       "\n",
       "          Type Direction   ID2  \n",
       "0     Mainline         E  3527  \n",
       "1     Mainline         E  3528  \n",
       "2     Mainline         E  3529  \n",
       "3     Mainline         E  3530  \n",
       "4     Mainline         E  3531  \n",
       "...        ...       ...   ...  \n",
       "3829  Mainline         N  8595  \n",
       "3830  Mainline         N  8596  \n",
       "3831  Mainline         S  8597  \n",
       "3832  Mainline         S  8598  \n",
       "3833  Mainline         S  8599  \n",
       "\n",
       "[3834 rows x 10 columns]"
      ]
     },
     "execution_count": 3,
     "metadata": {},
     "output_type": "execute_result"
    }
   ],
   "source": [
    "ca_meta = pd.read_csv('../LargeST/data/ca/ca_meta.csv')\n",
    "# get different districts\n",
    "gla_meta = ca_meta[(ca_meta.District == 7) | (ca_meta.District == 8) | (ca_meta.District == 12)]\n",
    "gla_meta = gla_meta.reset_index()\n",
    "gla_meta = gla_meta.drop(columns=['index'])\n",
    "gla_meta.to_csv('gla_meta.csv', index=False)\n",
    "print(gla_meta[gla_meta.duplicated(subset=['Lat', 'Lng'])])\n",
    "gla_meta"
   ]
  },
  {
   "cell_type": "markdown",
   "metadata": {},
   "source": [
    "# 名词解释"
   ]
  },
  {
   "cell_type": "markdown",
   "metadata": {},
   "source": [
    "* District: The district of a sensor in PeMS.\n",
    "* Country: The country of a sensor in California.\n",
    "* Fwy: The highway where a sensor is located.\n",
    "* Lane: The number of lanes where a sensor is located。\n",
    "* Direction: The direction of the highway."
   ]
  },
  {
   "cell_type": "markdown",
   "metadata": {},
   "source": [
    "## Filtering sensors\n",
    "\n",
    "* We remove some redundant detectors to ensure the distance between any adjacent detectors is longer than 3.5 miles; (ASTGCN)\n",
    "* the location shifting of a sensor in corresponding metadata should be less than 100 meters; (TrafficStream)\n",
    "* the missing ratio of data of a sensor should be less than 15%;"
   ]
  },
  {
   "cell_type": "markdown",
   "metadata": {},
   "source": [
    "### 1. filtering sensors by distance"
   ]
  },
  {
   "cell_type": "code",
   "execution_count": 4,
   "metadata": {},
   "outputs": [],
   "source": [
    "from math import radians, sin, cos, sqrt, atan2\n",
    "\n",
    "def haversine_distance(lat1, lon1, lat2, lon2):\n",
    "    # Radius of the Earth in kilometers\n",
    "    R = 6371.0\n",
    "\n",
    "    # Convert latitude and longitude from degrees to radians\n",
    "    lat1, lon1, lat2, lon2 = map(radians, [lat1, lon1, lat2, lon2])\n",
    "\n",
    "    # Haversine formula\n",
    "    dlat = lat2 - lat1\n",
    "    dlon = lon2 - lon1\n",
    "    a = sin(dlat / 2)**2 + cos(lat1) * cos(lat2) * sin(dlon / 2)**2\n",
    "    c = 2 * atan2(sqrt(a), sqrt(1 - a))\n",
    "\n",
    "    # Calculate the distance\n",
    "    distance = R * c\n",
    "\n",
    "    return distance"
   ]
  },
  {
   "cell_type": "code",
   "execution_count": 5,
   "metadata": {},
   "outputs": [
    {
     "data": {
      "text/plain": [
       "(3834, 10)"
      ]
     },
     "execution_count": 5,
     "metadata": {},
     "output_type": "execute_result"
    }
   ],
   "source": [
    "gla_meta.shape"
   ]
  },
  {
   "cell_type": "markdown",
   "metadata": {},
   "source": [
    "共有3834个传感器"
   ]
  },
  {
   "cell_type": "markdown",
   "metadata": {},
   "source": [
    "之前思路是：\n",
    "1. 筛选第7区的传感器；\n",
    "2. 选择地理上的中心节点（大概的）；\n",
    "3. 根据中心节点稀疏化传感器分布，使其两两之间距离大于2km；\n",
    "4. 滤除缺失率较高的传感器。\n",
    "\n",
    "修改后的思路是：\n",
    "\n",
    "（扩增的变量尽可能是流量比较大的点，预测难度加大）\n",
    "1. 取得具有较大流量的传感器ID，后续用于判断；\n",
    "2. 以中心传感器为中心，筛选出来一批，大概300+个传感器为第一阶段，这里不探究是否是大流量；\n",
    "3. 然后再往周围扩散，特别选择大流量的传感器。"
   ]
  },
  {
   "cell_type": "code",
   "execution_count": 6,
   "metadata": {},
   "outputs": [
    {
     "data": {
      "text/plain": [
       "array([[0.        , 0.48525332, 1.33627713, 1.75919264],\n",
       "       [0.48525332, 0.        , 0.92339236, 1.38565947],\n",
       "       [1.33627713, 0.92339236, 0.        , 0.48138663],\n",
       "       [1.75919264, 1.38565947, 0.48138663, 0.        ]])"
      ]
     },
     "execution_count": 6,
     "metadata": {},
     "output_type": "execute_result"
    }
   ],
   "source": [
    "loc_dict = {}\n",
    "\n",
    "# get the metadata of the sensors located in district 7.\n",
    "for idx, row in gla_meta.iterrows():\n",
    "    if row['District'] == 7:\n",
    "        value = {\"id\": row['ID'], \"lat\": row['Lat'], \"lng\": row['Lng']}\n",
    "        loc_dict[idx] = value\n",
    "\n",
    "# initial a matrix to store the distance between paired sensors\n",
    "dis_matrix = np.zeros((len(loc_dict), len(loc_dict)))\n",
    "\n",
    "for i in range(len(loc_dict)):\n",
    "    for j in range(i+1, len(loc_dict)):\n",
    "        s1_loc = (loc_dict[i]['lat'], loc_dict[i]['lng'])\n",
    "        s2_loc = (loc_dict[j]['lat'], loc_dict[j]['lng'])\n",
    "        dis_matrix[i][j] = haversine_distance(s1_loc[0], s1_loc[1], s2_loc[0], s2_loc[1])\n",
    "\n",
    "dis_matrix = np.tril(dis_matrix.T) + dis_matrix\n",
    "dis_matrix[:4, :4]"
   ]
  },
  {
   "cell_type": "markdown",
   "metadata": {},
   "source": [
    "得到距离矩阵，其中矩阵下标对应的传感器可以在loc_dict字典中查询。其中key表示下标，value包含了传感器号、经纬度。"
   ]
  },
  {
   "cell_type": "code",
   "execution_count": 7,
   "metadata": {},
   "outputs": [
    {
     "data": {
      "text/plain": [
       "ID                717262\n",
       "Lat             34.02902\n",
       "Lng          -118.216326\n",
       "District               7\n",
       "County       Los Angeles\n",
       "Fwy               SR60-E\n",
       "Lanes                  3\n",
       "Type            Mainline\n",
       "Direction              E\n",
       "ID2                 4078\n",
       "Name: 551, dtype: object"
      ]
     },
     "execution_count": 7,
     "metadata": {},
     "output_type": "execute_result"
    }
   ],
   "source": [
    "# 得到中心传感器号的经纬度，传感器号\n",
    "gla_meta.iloc[551]"
   ]
  },
  {
   "cell_type": "code",
   "execution_count": 8,
   "metadata": {},
   "outputs": [
    {
     "data": {
      "text/plain": [
       "(1859, 1859)"
      ]
     },
     "execution_count": 8,
     "metadata": {},
     "output_type": "execute_result"
    }
   ],
   "source": [
    "dis_matrix.shape"
   ]
  },
  {
   "cell_type": "markdown",
   "metadata": {},
   "source": [
    "稀疏化传感器，使其两两之间保有2km的长度。"
   ]
  },
  {
   "cell_type": "code",
   "execution_count": 9,
   "metadata": {},
   "outputs": [
    {
     "data": {
      "text/plain": [
       "468"
      ]
     },
     "execution_count": 9,
     "metadata": {},
     "output_type": "execute_result"
    }
   ],
   "source": [
    "# filtering sensor to ensure the distance between any adjacent sensors longer than 3 miles. (how to judge adjacent)\n",
    "\n",
    "center = 551\n",
    "_range = 2 # unit: km\n",
    "candidate = [551]\n",
    "i = 0\n",
    "\n",
    "while i < len(candidate):\n",
    "    tmp = np.where((_range < dis_matrix[candidate[i]]) & (dis_matrix[candidate[i]] < 2 * _range))[0]\n",
    "    # let new one in candidate\n",
    "    for c in tmp:\n",
    "        if c in candidate:\n",
    "            continue\n",
    "        else:\n",
    "            # new one should be {_range}km away from the existing nodes \n",
    "            if sum(dis_matrix[c][candidate] < _range) > 1:\n",
    "                continue\n",
    "            else:\n",
    "                # if meet all conditions\n",
    "                candidate.append(c)\n",
    "    i += 1\n",
    "\n",
    "len(candidate)"
   ]
  },
  {
   "cell_type": "markdown",
   "metadata": {},
   "source": [
    "筛选得到468个传感器，其中存储的是全部传感器号排列的下标。"
   ]
  },
  {
   "cell_type": "markdown",
   "metadata": {},
   "source": [
    "#### recheck the condition"
   ]
  },
  {
   "cell_type": "code",
   "execution_count": 10,
   "metadata": {},
   "outputs": [
    {
     "data": {
      "text/plain": [
       "468"
      ]
     },
     "execution_count": 10,
     "metadata": {},
     "output_type": "execute_result"
    }
   ],
   "source": [
    "sum(dis_matrix[candidate, candidate] < _range)"
   ]
  },
  {
   "cell_type": "markdown",
   "metadata": {},
   "source": [
    "### 2. filtering sensors by missing ratio"
   ]
  },
  {
   "cell_type": "markdown",
   "metadata": {},
   "source": [
    "ca_rn_adj is the normalization matrix by distance"
   ]
  },
  {
   "cell_type": "code",
   "execution_count": 12,
   "metadata": {},
   "outputs": [
    {
     "data": {
      "text/html": [
       "<div>\n",
       "<style scoped>\n",
       "    .dataframe tbody tr th:only-of-type {\n",
       "        vertical-align: middle;\n",
       "    }\n",
       "\n",
       "    .dataframe tbody tr th {\n",
       "        vertical-align: top;\n",
       "    }\n",
       "\n",
       "    .dataframe thead th {\n",
       "        text-align: right;\n",
       "    }\n",
       "</style>\n",
       "<table border=\"1\" class=\"dataframe\">\n",
       "  <thead>\n",
       "    <tr style=\"text-align: right;\">\n",
       "      <th></th>\n",
       "      <th>317802</th>\n",
       "      <th>312134</th>\n",
       "      <th>312133</th>\n",
       "      <th>313159</th>\n",
       "      <th>319767</th>\n",
       "      <th>319780</th>\n",
       "      <th>317830</th>\n",
       "      <th>314876</th>\n",
       "      <th>314886</th>\n",
       "      <th>314909</th>\n",
       "      <th>...</th>\n",
       "      <th>1221523</th>\n",
       "      <th>1221550</th>\n",
       "      <th>1221536</th>\n",
       "      <th>1221556</th>\n",
       "      <th>1219551</th>\n",
       "      <th>1202527</th>\n",
       "      <th>1202549</th>\n",
       "      <th>1219560</th>\n",
       "      <th>1202522</th>\n",
       "      <th>1202537</th>\n",
       "    </tr>\n",
       "    <tr>\n",
       "      <th>Time</th>\n",
       "      <th></th>\n",
       "      <th></th>\n",
       "      <th></th>\n",
       "      <th></th>\n",
       "      <th></th>\n",
       "      <th></th>\n",
       "      <th></th>\n",
       "      <th></th>\n",
       "      <th></th>\n",
       "      <th></th>\n",
       "      <th></th>\n",
       "      <th></th>\n",
       "      <th></th>\n",
       "      <th></th>\n",
       "      <th></th>\n",
       "      <th></th>\n",
       "      <th></th>\n",
       "      <th></th>\n",
       "      <th></th>\n",
       "      <th></th>\n",
       "      <th></th>\n",
       "    </tr>\n",
       "  </thead>\n",
       "  <tbody>\n",
       "    <tr>\n",
       "      <th>2017-01-01</th>\n",
       "      <td>57.0</td>\n",
       "      <td>19.0</td>\n",
       "      <td>17.0</td>\n",
       "      <td>29.0</td>\n",
       "      <td>31.0</td>\n",
       "      <td>47.0</td>\n",
       "      <td>73.0</td>\n",
       "      <td>27.0</td>\n",
       "      <td>30.0</td>\n",
       "      <td>37.0</td>\n",
       "      <td>...</td>\n",
       "      <td>NaN</td>\n",
       "      <td>NaN</td>\n",
       "      <td>NaN</td>\n",
       "      <td>NaN</td>\n",
       "      <td>47.0</td>\n",
       "      <td>0.0</td>\n",
       "      <td>43.0</td>\n",
       "      <td>40.0</td>\n",
       "      <td>62.0</td>\n",
       "      <td>81.0</td>\n",
       "    </tr>\n",
       "  </tbody>\n",
       "</table>\n",
       "<p>1 rows × 8600 columns</p>\n",
       "</div>"
      ],
      "text/plain": [
       "            317802  312134  312133  313159  319767  319780  317830  314876  \\\n",
       "Time                                                                         \n",
       "2017-01-01    57.0    19.0    17.0    29.0    31.0    47.0    73.0    27.0   \n",
       "\n",
       "            314886  314909  ...  1221523  1221550  1221536  1221556  1219551  \\\n",
       "Time                        ...                                                \n",
       "2017-01-01    30.0    37.0  ...      NaN      NaN      NaN      NaN     47.0   \n",
       "\n",
       "            1202527  1202549  1219560  1202522  1202537  \n",
       "Time                                                     \n",
       "2017-01-01      0.0     43.0     40.0     62.0     81.0  \n",
       "\n",
       "[1 rows x 8600 columns]"
      ]
     },
     "execution_count": 12,
     "metadata": {},
     "output_type": "execute_result"
    }
   ],
   "source": [
    "# load dataset\n",
    "df = pd.read_hdf(\"../LargeST/data/ca/ca_his_raw_2017.h5\")\n",
    "df.head(1)"
   ]
  },
  {
   "cell_type": "code",
   "execution_count": 13,
   "metadata": {},
   "outputs": [],
   "source": [
    "ID = [str(loc_dict[c]['id']) for c in candidate]\n",
    "\n",
    "gla_his = df[ID]"
   ]
  },
  {
   "cell_type": "code",
   "execution_count": 14,
   "metadata": {},
   "outputs": [],
   "source": [
    "del df"
   ]
  },
  {
   "cell_type": "code",
   "execution_count": 15,
   "metadata": {},
   "outputs": [
    {
     "data": {
      "text/plain": [
       "717262    0.000152\n",
       "716933    0.000152\n",
       "759566    0.000143\n",
       "716942    0.000162\n",
       "716940    0.000152\n",
       "            ...   \n",
       "717554    0.000133\n",
       "771329    0.000133\n",
       "771340    0.000162\n",
       "764900    0.000143\n",
       "764905    0.000152\n",
       "Length: 468, dtype: float64"
      ]
     },
     "execution_count": 15,
     "metadata": {},
     "output_type": "execute_result"
    }
   ],
   "source": [
    "missing_ratio = gla_his.isnull().mean()\n",
    "missing_ratio"
   ]
  },
  {
   "cell_type": "code",
   "execution_count": 16,
   "metadata": {},
   "outputs": [
    {
     "data": {
      "text/plain": [
       "Index(['776752', '776290', '776196', '776289', '776266', '776826', '776518',\n",
       "       '775825', '776020', '769228', '773785', '776081', '776066', '776060',\n",
       "       '776073', '776313', '776457'],\n",
       "      dtype='object')"
      ]
     },
     "execution_count": 16,
     "metadata": {},
     "output_type": "execute_result"
    }
   ],
   "source": [
    "missing_ratio[missing_ratio > 0.15].index"
   ]
  },
  {
   "cell_type": "markdown",
   "metadata": {},
   "source": [
    "delete these 17 sensors which missing ratio greating than 0.15."
   ]
  },
  {
   "cell_type": "code",
   "execution_count": 17,
   "metadata": {},
   "outputs": [],
   "source": [
    "missing_list = missing_ratio[missing_ratio > 0.15].index.tolist()"
   ]
  },
  {
   "cell_type": "code",
   "execution_count": 18,
   "metadata": {},
   "outputs": [
    {
     "name": "stdout",
     "output_type": "stream",
     "text": [
      "451\n"
     ]
    }
   ],
   "source": [
    "filter_sensor = list(set(ID) - set(missing_list))\n",
    "print(len(filter_sensor))"
   ]
  },
  {
   "cell_type": "markdown",
   "metadata": {},
   "source": [
    "进一步筛选后，得到451个传感器"
   ]
  },
  {
   "cell_type": "markdown",
   "metadata": {},
   "source": [
    "### 3.filtering sensors by the time range"
   ]
  },
  {
   "cell_type": "markdown",
   "metadata": {},
   "source": [
    "plot a line chart to view changes in data"
   ]
  },
  {
   "cell_type": "code",
   "execution_count": 19,
   "metadata": {},
   "outputs": [
    {
     "data": {
      "text/plain": [
       "<Axes: xlabel='Time'>"
      ]
     },
     "execution_count": 19,
     "metadata": {},
     "output_type": "execute_result"
    },
    {
     "data": {
      "image/png": "[encoded data removed]",
      "text/plain": [
       "<Figure size 1200x600 with 1 Axes>"
      ]
     },
     "metadata": {},
     "output_type": "display_data"
    }
   ],
   "source": [
    "%matplotlib inline\n",
    "import matplotlib.pyplot as plt\n",
    "\n",
    "\n",
    "filter_gla_his = gla_his[filter_sensor]\n",
    "plt.figure(figsize=(12,6))\n",
    "filter_gla_his['717963'].plot()"
   ]
  },
  {
   "cell_type": "code",
   "execution_count": 71,
   "metadata": {},
   "outputs": [
    {
     "data": {
      "text/plain": [
       "'767367'"
      ]
     },
     "execution_count": 71,
     "metadata": {},
     "output_type": "execute_result"
    }
   ],
   "source": [
    "filter_gla_his.keys()[380]"
   ]
  },
  {
   "cell_type": "markdown",
   "metadata": {},
   "source": [
    "### 因为一些变量存在时序漂移，并且漂移的问题是出现在测试集上，在训练集上没有体现。如果是解决漂移问题，至少在训练集上应该是有一些的。"
   ]
  },
  {
   "cell_type": "code",
   "execution_count": 72,
   "metadata": {},
   "outputs": [
    {
     "data": {
      "text/plain": [
       "<Axes: xlabel='Time'>"
      ]
     },
     "execution_count": 72,
     "metadata": {},
     "output_type": "execute_result"
    },
    {
     "data": {
      "image/png": "[encoded data removed]",
      "text/plain": [
       "<Figure size 600x300 with 1 Axes>"
      ]
     },
     "metadata": {},
     "output_type": "display_data"
    }
   ],
   "source": [
    "plt.figure(figsize=(6,3))\n",
    "filter_gla_his['767367'][\"2017-01-01\":\"2017-03-30\"].plot()"
   ]
  },
  {
   "cell_type": "markdown",
   "metadata": {},
   "source": [
    "the data is truncated from Jan, 2017 to March, 2017."
   ]
  },
  {
   "cell_type": "markdown",
   "metadata": {},
   "source": [
    "生成上述传感器之间的空间距离矩阵"
   ]
  },
  {
   "cell_type": "markdown",
   "metadata": {},
   "source": [
    "center node: 717262"
   ]
  },
  {
   "cell_type": "code",
   "execution_count": 19,
   "metadata": {},
   "outputs": [],
   "source": [
    "columns = filter_gla_his.columns.tolist()"
   ]
  },
  {
   "cell_type": "markdown",
   "metadata": {},
   "source": [
    "* columns中存储的是传感器ID；\n",
    "* loc_dict存储的是距离矩阵中下标与ID的对应关系；\n",
    "\n",
    "要获取columns中传感器的距离矩阵。"
   ]
  },
  {
   "cell_type": "code",
   "execution_count": 20,
   "metadata": {},
   "outputs": [
    {
     "data": {
      "text/plain": [
       "['717543', '767760', '763563']"
      ]
     },
     "execution_count": 20,
     "metadata": {},
     "output_type": "execute_result"
    }
   ],
   "source": [
    "columns[:3]"
   ]
  },
  {
   "cell_type": "code",
   "execution_count": 21,
   "metadata": {},
   "outputs": [],
   "source": [
    "ID2idx = {}\n",
    "for k, v in loc_dict.items():\n",
    "    _id = v['id']\n",
    "    ID2idx[str(_id)] = k\n",
    "\n",
    "idx_columns = [ID2idx[c] for c in columns]"
   ]
  },
  {
   "cell_type": "markdown",
   "metadata": {},
   "source": [
    "id2idx中下标是未筛选前的终端编号，也就是columns中的终端编号及其下标。"
   ]
  },
  {
   "cell_type": "code",
   "execution_count": 22,
   "metadata": {},
   "outputs": [
    {
     "data": {
      "text/plain": [
       "[1164, 1075, 519]"
      ]
     },
     "execution_count": 22,
     "metadata": {},
     "output_type": "execute_result"
    }
   ],
   "source": [
    "idx_columns[:3]"
   ]
  },
  {
   "cell_type": "code",
   "execution_count": 23,
   "metadata": {},
   "outputs": [],
   "source": [
    "dis_adj = dis_matrix[idx_columns][:, idx_columns]"
   ]
  },
  {
   "cell_type": "markdown",
   "metadata": {},
   "source": [
    "当前距离矩阵中是按照451个终端的顺序排序，其下标和终端编号的对应。\n",
    "\n",
    "考虑到扩增变量的使用方便，将数据以及距离矩阵的顺序按照扩增的顺序排放。"
   ]
  },
  {
   "cell_type": "code",
   "execution_count": 24,
   "metadata": {},
   "outputs": [],
   "source": [
    "# 根据columns的ID号，重新计划距离矩阵\n",
    "\n",
    "id2idx = {} # ID TO index\n",
    "idx2id = {} # Index to ID\n",
    "\n",
    "for i, c in enumerate(columns):\n",
    "    id2idx[c] = i\n",
    "    idx2id[i] = c"
   ]
  },
  {
   "cell_type": "code",
   "execution_count": 25,
   "metadata": {},
   "outputs": [],
   "source": [
    "# 180是中心传感器在距离矩阵的位置， 这里是选择前371传感器。\n",
    "p1_sensor_array = np.argsort(dis_adj[180])[:371]"
   ]
  },
  {
   "cell_type": "code",
   "execution_count": 26,
   "metadata": {},
   "outputs": [
    {
     "data": {
      "text/plain": [
       "array([180, 202, 362, 204, 449, 441, 443, 404,   0, 108,  14, 118, 445,\n",
       "       414, 280, 286, 412, 164,  32, 189, 137, 301,  47, 370, 229, 251,\n",
       "       323, 171,  26, 330])"
      ]
     },
     "execution_count": 26,
     "metadata": {},
     "output_type": "execute_result"
    }
   ],
   "source": [
    "p1_sensor_array[:30]"
   ]
  },
  {
   "cell_type": "markdown",
   "metadata": {},
   "source": [
    "p1_sensor_array中存储的是371传感器，它们和中心传感器的距离为41公里以内。剩余新扩张的451-371个传感器是大于41公里的。\n",
    "\n",
    "按照p1_sensor_array对应的顺序重新排列距离矩阵dis_adj、csv数据，这样让新扩增的传感器都位于旧的之后。"
   ]
  },
  {
   "cell_type": "code",
   "execution_count": 28,
   "metadata": {},
   "outputs": [],
   "source": [
    "# 将第二阶段的传感器追加在后面\n",
    "\n",
    "new_columns_idx = p1_sensor_array.tolist()\n",
    "# 获得ID的集合，用于reassign数据\n",
    "\n",
    "new_columns_id = [idx2id[idx] for idx in new_columns_idx]"
   ]
  },
  {
   "cell_type": "code",
   "execution_count": 29,
   "metadata": {},
   "outputs": [
    {
     "data": {
      "text/plain": [
       "(371, 371)"
      ]
     },
     "execution_count": 29,
     "metadata": {},
     "output_type": "execute_result"
    }
   ],
   "source": [
    "len(new_columns_id), len(new_columns_idx)"
   ]
  },
  {
   "cell_type": "code",
   "execution_count": 30,
   "metadata": {},
   "outputs": [
    {
     "data": {
      "text/plain": [
       "451"
      ]
     },
     "execution_count": 30,
     "metadata": {},
     "output_type": "execute_result"
    }
   ],
   "source": [
    "len(columns)"
   ]
  },
  {
   "cell_type": "code",
   "execution_count": 31,
   "metadata": {},
   "outputs": [],
   "source": [
    "for i in range(0, len(columns)):\n",
    "    if i not in new_columns_idx:\n",
    "        new_columns_id.append(idx2id[i])\n",
    "        new_columns_idx.append(i)"
   ]
  },
  {
   "cell_type": "code",
   "execution_count": 32,
   "metadata": {},
   "outputs": [
    {
     "data": {
      "text/plain": [
       "(451, 451)"
      ]
     },
     "execution_count": 32,
     "metadata": {},
     "output_type": "execute_result"
    }
   ],
   "source": [
    "len(new_columns_id), len(new_columns_idx)"
   ]
  },
  {
   "cell_type": "code",
   "execution_count": 33,
   "metadata": {},
   "outputs": [
    {
     "data": {
      "text/plain": [
       "True"
      ]
     },
     "execution_count": 33,
     "metadata": {},
     "output_type": "execute_result"
    }
   ],
   "source": [
    "446 in new_columns_idx"
   ]
  },
  {
   "cell_type": "code",
   "execution_count": 34,
   "metadata": {},
   "outputs": [
    {
     "data": {
      "text/plain": [
       "[180, 202, 362, 204, 449]"
      ]
     },
     "execution_count": 34,
     "metadata": {},
     "output_type": "execute_result"
    }
   ],
   "source": [
    "new_columns_idx[:5]"
   ]
  },
  {
   "cell_type": "code",
   "execution_count": 35,
   "metadata": {},
   "outputs": [],
   "source": [
    "dis_adj = dis_adj[new_columns_idx, :]\n",
    "dis_adj = dis_adj[:, new_columns_idx]"
   ]
  },
  {
   "cell_type": "code",
   "execution_count": 36,
   "metadata": {},
   "outputs": [],
   "source": [
    "# reorder dataframe\n",
    "filter_gla_his = filter_gla_his[new_columns_id]"
   ]
  },
  {
   "cell_type": "code",
   "execution_count": 38,
   "metadata": {},
   "outputs": [
    {
     "data": {
      "text/plain": [
       "Index(['765995', '771706', '765978', '766012', '717525', '766029', '772487',\n",
       "       '717568', '717543', '717544',\n",
       "       ...\n",
       "       '774813', '717226', '774958', '718053', '759980', '775101', '774475',\n",
       "       '764217', '717701', '769292'],\n",
       "      dtype='object', length=451)"
      ]
     },
     "execution_count": 38,
     "metadata": {},
     "output_type": "execute_result"
    }
   ],
   "source": [
    "filter_gla_his.keys()"
   ]
  },
  {
   "cell_type": "markdown",
   "metadata": {},
   "source": [
    "记录下标与ID的对应关系，记录ID的经纬度。"
   ]
  },
  {
   "cell_type": "code",
   "execution_count": 39,
   "metadata": {},
   "outputs": [],
   "source": [
    "ID_POS = {}\n",
    "\n",
    "for idx, row in gla_meta.iterrows():\n",
    "    value = {\"lat\": row['Lat'], \"lng\": row['Lng']}\n",
    "    ID_POS[str(row['ID'])] = value"
   ]
  },
  {
   "cell_type": "code",
   "execution_count": 40,
   "metadata": {},
   "outputs": [
    {
     "data": {
      "text/plain": [
       "((451, 451), 451)"
      ]
     },
     "execution_count": 40,
     "metadata": {},
     "output_type": "execute_result"
    }
   ],
   "source": [
    "dis_adj.shape, len(new_columns_idx)"
   ]
  },
  {
   "cell_type": "code",
   "execution_count": 41,
   "metadata": {},
   "outputs": [
    {
     "data": {
      "text/plain": [
       "451"
      ]
     },
     "execution_count": 41,
     "metadata": {},
     "output_type": "execute_result"
    }
   ],
   "source": [
    "len(new_columns_id)"
   ]
  },
  {
   "cell_type": "code",
   "execution_count": 42,
   "metadata": {},
   "outputs": [],
   "source": [
    "sensor_meta = {}\n",
    "\n",
    "for idx in range(dis_adj.shape[0]):\n",
    "    sensor_meta[idx] = {\n",
    "        \"ID\": new_columns_id[idx],\n",
    "        \"lat\": ID_POS[new_columns_id[idx]]['lat'],\n",
    "        \"lng\": ID_POS[new_columns_id[idx]]['lng']\n",
    "    }"
   ]
  },
  {
   "cell_type": "code",
   "execution_count": 43,
   "metadata": {},
   "outputs": [
    {
     "name": "stdout",
     "output_type": "stream",
     "text": [
      "35801\n",
      "0\n"
     ]
    }
   ],
   "source": [
    "df = filter_gla_his[\"2017-01-01\":\"2017-03-31\"]\n",
    "print(df.isnull().sum().sum())\n",
    "\n",
    "df = df.interpolate()\n",
    "df = df.ffill()\n",
    "df = df.bfill()\n",
    "print(df.isnull().sum().sum())"
   ]
  },
  {
   "cell_type": "code",
   "execution_count": 45,
   "metadata": {},
   "outputs": [
    {
     "data": {
      "text/plain": [
       "Index(['765995', '771706', '765978', '766012', '717525', '766029', '772487',\n",
       "       '717568', '717543', '717544',\n",
       "       ...\n",
       "       '774813', '717226', '774958', '718053', '759980', '775101', '774475',\n",
       "       '764217', '717701', '769292'],\n",
       "      dtype='object', length=451)"
      ]
     },
     "execution_count": 45,
     "metadata": {},
     "output_type": "execute_result"
    }
   ],
   "source": [
    "df.keys()"
   ]
  },
  {
   "cell_type": "code",
   "execution_count": 46,
   "metadata": {},
   "outputs": [],
   "source": [
    "# save file during Jan. -- March\n",
    "df.to_csv(\"./gla_pemsd7.csv\", index=True)"
   ]
  },
  {
   "cell_type": "code",
   "execution_count": 47,
   "metadata": {},
   "outputs": [],
   "source": [
    "np.save(\"./gla_dis.npy\", dis_adj)"
   ]
  },
  {
   "cell_type": "code",
   "execution_count": 48,
   "metadata": {},
   "outputs": [],
   "source": [
    "import json\n",
    "with open(\"./sensor_meta.json\", \"w\") as file:\n",
    "    json.dump(sensor_meta, file)"
   ]
  },
  {
   "cell_type": "code",
   "execution_count": 49,
   "metadata": {},
   "outputs": [
    {
     "data": {
      "text/plain": [
       "26.64264015545617"
      ]
     },
     "execution_count": 49,
     "metadata": {},
     "output_type": "execute_result"
    }
   ],
   "source": [
    "dis_adj[180, 354]"
   ]
  },
  {
   "cell_type": "markdown",
   "metadata": {},
   "source": [
    "大于41公里的传感器"
   ]
  },
  {
   "cell_type": "code",
   "execution_count": 47,
   "metadata": {},
   "outputs": [
    {
     "data": {
      "text/plain": [
       "{'ID': '771253', 'lat': 34.179522, 'lng': -118.86008000000001}"
      ]
     },
     "execution_count": 47,
     "metadata": {},
     "output_type": "execute_result"
    }
   ],
   "source": [
    "sensor_meta[445]"
   ]
  },
  {
   "cell_type": "code",
   "execution_count": 48,
   "metadata": {},
   "outputs": [
    {
     "data": {
      "text/plain": [
       "(451, 451)"
      ]
     },
     "execution_count": 48,
     "metadata": {},
     "output_type": "execute_result"
    }
   ],
   "source": [
    "dis_adj.shape"
   ]
  },
  {
   "cell_type": "code",
   "execution_count": 49,
   "metadata": {},
   "outputs": [
    {
     "data": {
      "text/plain": [
       "{'ID': '717243', 'lat': 34.072839, 'lng': -117.77926399999998}"
      ]
     },
     "execution_count": 49,
     "metadata": {},
     "output_type": "execute_result"
    }
   ],
   "source": [
    "sensor_meta[446]"
   ]
  },
  {
   "cell_type": "code",
   "execution_count": 50,
   "metadata": {},
   "outputs": [],
   "source": [
    "%matplotlib inline\n",
    "\n",
    "import folium\n",
    "\n",
    "\n",
    "my_map = folium.Map(zoom_start=4)\n",
    "\n",
    "for idx in range(371):\n",
    "    coordinates = (sensor_meta[idx]['lat'], sensor_meta[idx]['lng'])\n",
    "    folium.Marker(location=coordinates, icon=folium.Icon(color=\"blue\")).add_to(my_map)\n",
    "\n",
    "for idx in range(371, dis_adj.shape[0]):\n",
    "    coordinates = (sensor_meta[idx]['lat'], sensor_meta[idx]['lng'])\n",
    "    folium.Marker(location=coordinates, icon=folium.Icon(color=\"red\")).add_to(my_map)\n",
    "\n",
    "\n",
    "my_map.save('../Spatio-temporal-Incremental-Learning/Analysis/map_with_marker.html')"
   ]
  },
  {
   "cell_type": "code",
   "execution_count": null,
   "metadata": {},
   "outputs": [
    {
     "data": {
      "text/plain": [
       "{'ID': '762353', 'lat': 33.890696999999996, 'lng': -118.041009}"
      ]
     },
     "execution_count": 103,
     "metadata": {},
     "output_type": "execute_result"
    }
   ],
   "source": [
    "sensor_meta[450]"
   ]
  },
  {
   "cell_type": "code",
   "execution_count": null,
   "metadata": {},
   "outputs": [],
   "source": []
  }
 ],
 "metadata": {
  "kernelspec": {
   "display_name": "base",
   "language": "python",
   "name": "python3"
  },
  "language_info": {
   "codemirror_mode": {
    "name": "ipython",
    "version": 3
   },
   "file_extension": ".py",
   "mimetype": "text/x-python",
   "name": "python",
   "nbconvert_exporter": "python",
   "pygments_lexer": "ipython3",
   "version": "3.8.18"
  }
 },
 "nbformat": 4,
 "nbformat_minor": 2
}
